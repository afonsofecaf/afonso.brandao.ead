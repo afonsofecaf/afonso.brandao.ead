{
 "cells": [
  {
   "cell_type": "markdown",
   "metadata": {},
   "source": [
    "# Case: Otimização de Produção em uma Fábrica com Cálculo Diferencial\n",
    "\n",
    "## Introdução\n",
    "Uma fábrica deseja otimizar sua produção para reduzir custos e maximizar a eficiência. Para isso, utilizamos **cálculo diferencial** para entender como pequenas variações nos parâmetros de produção impactam o desempenho geral. Nesta análise, aplicaremos conceitos como **derivadas**, **gradiente** e **descida do gradiente** para ajustar os processos industriais.\n",
    "\n",
    "## 1. O Problema da Fábrica\n",
    "A fábrica produz um determinado produto e deseja minimizar os custos de produção. O custo total de produção \\( C(q) \\) depende da quantidade produzida \\( q \\). Podemos modelar esse custo com a seguinte função:\n",
    "\n",
    "$$ C(q) = 5q^2 - 100q + 2000 $$\n",
    "\n",
    "Nosso objetivo é encontrar o valor de \\( q \\) que minimiza o custo de produção.\n",
    "\n",
    "### Implementação em Python"
   ]
  },
  {
   "cell_type": "code",
   "execution_count": 5,
   "metadata": {},
   "outputs": [
    {
     "name": "stdout",
     "output_type": "stream",
     "text": [
      "Derivada do custo: 10*q - 100\n"
     ]
    }
   ],
   "source": [
    "import sympy as sp\n",
    "\n",
    "q = sp.Symbol('q')  # Quantidade produzida\n",
    "C = 5*q**2 - 100*q + 2000  # Função de custo\n",
    "\n",
    "# Derivada do custo\n",
    "C_deriv = sp.diff(C, q)\n",
    "print(\"Derivada do custo:\", C_deriv)"
   ]
  },
  {
   "cell_type": "markdown",
   "metadata": {},
   "source": [
    "A derivada nos diz como o custo varia conforme a quantidade \\( q \\). Para encontrar o ponto de custo mínimo, igualamos essa derivada a zero.\n",
    "\n",
    "## 2. Encontrando a Quantidade Ótima de Produção\n",
    "Para minimizar os custos, resolvemos a equação:\n",
    "\n",
    "$$ 10q - 100 = 0 $$"
   ]
  },
  {
   "cell_type": "code",
   "execution_count": 6,
   "metadata": {},
   "outputs": [
    {
     "name": "stdout",
     "output_type": "stream",
     "text": [
      "Quantidade ótima de produção: [10]\n"
     ]
    }
   ],
   "source": [
    "q_otimo = sp.solve(C_deriv, q)\n",
    "print(\"Quantidade ótima de produção:\", q_otimo)"
   ]
  },
  {
   "cell_type": "markdown",
   "metadata": {},
   "source": [
    "Isso significa que o custo mínimo ocorre quando a fábrica produz **10 unidades**.\n",
    "\n",
    "## 3. Aplicação do Gradiente para Ajuste Contínuo\n",
    "Agora, suponha que os custos de produção possam mudar ao longo do tempo. Podemos utilizar a **descida do gradiente** para ajustar continuamente a produção.\n",
    "\n",
    "A equação de atualização é:\n",
    "\n",
    "$$ q_{novo} = q_{atual} - \\alpha \\frac{d}{dq} C(q) $$\n",
    "\n",
    "Onde:\n",
    "- \\( \\alpha \\) é a **taxa de aprendizado**, que controla o tamanho do ajuste a cada iteração.\n",
    "\n",
    "### Implementação da Descida do Gradiente"
   ]
  },
  {
   "cell_type": "code",
   "execution_count": 14,
   "metadata": {},
   "outputs": [
    {
     "name": "stdout",
     "output_type": "stream",
     "text": [
      "Quantidade ótima ajustada: 10.000000000000009\n"
     ]
    }
   ],
   "source": [
    "def gradient_descent(start_q, learning_rate=0.01, iterations=1000):\n",
    "    q = start_q\n",
    "    for _ in range(iterations):\n",
    "        grad = 10 * q - 100  # Derivada do custo\n",
    "        q -= learning_rate * grad\n",
    "    return q\n",
    "\n",
    "q_otimizado = gradient_descent(20)\n",
    "print(\"Quantidade ótima ajustada:\", q_otimizado)"
   ]
  },
  {
   "cell_type": "markdown",
   "metadata": {},
   "source": [
    "Isso mostra que a descida do gradiente ajusta a produção para **10 unidades**, minimizando os custos.\n",
    "\n",
    "## 4. Aplicação em Controle de Estoque e Produção\n",
    "Em um cenário real, a fábrica pode utilizar esse método para:\n",
    "- Ajustar dinamicamente a **produção diária** conforme a demanda.\n",
    "- Reduzir desperdícios mantendo o estoque otimizado.\n",
    "- Automatizar decisões com **aprendizado de máquina**.\n",
    "\n",
    "Em um sistema de controle baseado em redes neurais, poderíamos integrar o **gradiente da função de custo** para melhorar as previsões e ajustar os parâmetros automaticamente:"
   ]
  },
  {
   "cell_type": "code",
   "execution_count": 18,
   "metadata": {},
   "outputs": [],
   "source": [
    "import tensorflow as tf\n",
    "from tensorflow.keras.models import Sequential\n",
    "from tensorflow.keras.layers import Dense\n",
    "\n",
    "# Criando um modelo simples\n",
    "model = Sequential([\n",
    "    Dense(10, activation='relu', input_shape=(1,)),\n",
    "    Dense(1, activation='linear')\n",
    "])\n",
    "\n",
    "# Compilando o modelo com descida do gradiente\n",
    "model.compile(optimizer='sgd', loss='mse')"
   ]
  },
  {
   "cell_type": "code",
   "execution_count": 20,
   "metadata": {},
   "outputs": [
    {
     "data": {
      "text/plain": [
       "<bound method Model.get_layer of <Sequential name=sequential_2, built=True>>"
      ]
     },
     "execution_count": 20,
     "metadata": {},
     "output_type": "execute_result"
    }
   ],
   "source": [
    "model.get_layer"
   ]
  },
  {
   "cell_type": "markdown",
   "metadata": {},
   "source": [
    "## Conclusão\n",
    "A aplicação do **cálculo diferencial** em um ambiente industrial permite a **otimização da produção** e a **redução de custos**. Utilizando **descida do gradiente**, a fábrica pode:\n",
    "- **Ajustar continuamente a quantidade produzida** com base em variações no custo.\n",
    "- **Tomar decisões mais inteligentes** sobre o nível de produção.\n",
    "- **Automatizar ajustes com aprendizado de máquina** para aprimorar a eficiência.\n",
    "\n",
    "Dessa forma, os conceitos matemáticos tornam-se ferramentas valiosas para aprimorar a performance industrial e aumentar a lucratividade."
   ]
  }
 ],
 "metadata": {
  "kernelspec": {
   "display_name": "Python 3",
   "language": "python",
   "name": "python3"
  },
  "language_info": {
   "codemirror_mode": {
    "name": "ipython",
    "version": 3
   },
   "file_extension": ".py",
   "mimetype": "text/x-python",
   "name": "python",
   "nbconvert_exporter": "python",
   "pygments_lexer": "ipython3",
   "version": "3.12.1"
  }
 },
 "nbformat": 4,
 "nbformat_minor": 2
}
