{
 "cells": [
  {
   "cell_type": "markdown",
   "metadata": {},
   "source": [
    "## **Passo 1: Definir a Função de Receita**\n",
    "Sabemos que a receita \\( R(p) \\) é definida como:\n",
    "\n",
    "$$R(p) = p \\cdot (a - b \\cdot p)$$\n",
    "\n",
    "Essa equação nos diz que a receita é o **preço** \\( p \\) multiplicado pela **quantidade demandada** \\( q \\), que depende de \\( p \\).\n",
    "\n",
    "### **Implementação em Python**\n",
    "Vamos definir essa função simbolicamente usando **SymPy**:"
   ]
  },
  {
   "cell_type": "code",
   "execution_count": 1,
   "metadata": {},
   "outputs": [
    {
     "name": "stdout",
     "output_type": "stream",
     "text": [
      "Função da Receita R(p): p*(a - b*p)\n"
     ]
    }
   ],
   "source": [
    "import sympy as sp\n",
    "\n",
    "# Definição das variáveis\n",
    "p = sp.Symbol('p')  # Variável para preço\n",
    "a, b = sp.symbols('a b')  # Parâmetros da equação\n",
    "\n",
    "# Função da receita\n",
    "R_p = p * (a - b * p)\n",
    "\n",
    "# Exibir a equação\n",
    "print(\"Função da Receita R(p):\", R_p)"
   ]
  },
  {
   "cell_type": "markdown",
   "metadata": {},
   "source": [
    "## **Passo 2: Encontrar a Derivada da Receita**\n",
    "Para **maximizar a receita**, precisamos encontrar os pontos críticos da função. Isso é feito derivando \\( R(p) \\) em relação a \\( p \\):\n",
    "\n",
    "$$R'(p) = \\frac{d}{dp} \\left[ p \\cdot (a - b \\cdot p) \\right]$$\n",
    "\n",
    "### **Implementação em Python**\n",
    "Podemos calcular a derivada automaticamente:"
   ]
  },
  {
   "cell_type": "code",
   "execution_count": 2,
   "metadata": {},
   "outputs": [
    {
     "name": "stdout",
     "output_type": "stream",
     "text": [
      "Derivada da Receita R'(p): a - 2*b*p\n"
     ]
    }
   ],
   "source": [
    "# Derivada da receita\n",
    "R_deriv = sp.diff(R_p, p)\n",
    "\n",
    "# Exibir a derivada\n",
    "print(\"Derivada da Receita R'(p):\", R_deriv)"
   ]
  },
  {
   "cell_type": "markdown",
   "metadata": {},
   "source": [
    "## **Passo 3: Encontrar o Ponto Crítico**\n",
    "Para encontrar o **preço ótimo** que maximiza a receita, precisamos **igualar a derivada a zero** e resolver para \\( p \\):\n",
    "\n",
    "$$R'(p) = 0$$\n",
    "\n",
    "Ou seja:\n",
    "\n",
    "$$a - 2b \\cdot p = 0$$\n",
    "\n",
    "**Resolvendo para \\( p \\):**\n",
    "\n",
    "$$p^* = \\frac{a}{2b}$$\n",
    "\n",
    "### **Implementação em Python**\n",
    "Podemos resolver a equação simbolicamente com `solve`:"
   ]
  },
  {
   "cell_type": "code",
   "execution_count": 3,
   "metadata": {},
   "outputs": [
    {
     "name": "stdout",
     "output_type": "stream",
     "text": [
      "Preço ótimo p*: a/(2*b)\n"
     ]
    }
   ],
   "source": [
    "# Encontrar o ponto crítico (p*)\n",
    "p_otimo = sp.solve(R_deriv, p)[0]\n",
    "\n",
    "# Exibir o preço ótimo\n",
    "print(\"Preço ótimo p*:\", p_otimo)"
   ]
  },
  {
   "cell_type": "markdown",
   "metadata": {},
   "source": [
    "## **Passo 4: Interpretar o Resultado**\n",
    "O preço ótimo \\( p^* \\) depende dos parâmetros \\( a \\) e \\( b \\):\n",
    "\n",
    "- **\\( a \\)**: Representa a demanda quando o preço é zero.\n",
    "- **\\( b \\)**: Representa a sensibilidade da demanda à variação do preço.\n",
    "\n",
    "O resultado final:\n",
    "\n",
    "$$p^* = \\frac{a}{2b}$$\n",
    "\n",
    "significa que, para **maximizar a receita**, o preço ideal é **metade do coeficiente \\( a \\) dividido pelo coeficiente \\( b \\)**.\n",
    "\n",
    "---\n",
    "\n",
    "## **Passo 5: Testar com Valores Numéricos**\n",
    "Agora podemos testar o modelo com valores específicos, por exemplo:\n",
    "\n",
    "- \\( a = 100 \\)\n",
    "- \\( b = 2 \\)"
   ]
  },
  {
   "cell_type": "code",
   "execution_count": 4,
   "metadata": {},
   "outputs": [
    {
     "name": "stdout",
     "output_type": "stream",
     "text": [
      "Preço ótimo para a=100, b=2: 25\n"
     ]
    }
   ],
   "source": [
    "# Substituir valores numéricos\n",
    "p_valor = p_otimo.subs({a: 100, b: 2})\n",
    "\n",
    "print(\"Preço ótimo para a=100, b=2:\", p_valor)"
   ]
  },
  {
   "cell_type": "markdown",
   "metadata": {},
   "source": [
    "Ou seja, **se \\( a = 100 \\) e \\( b = 2 \\), o preço ideal para maximizar a receita é \\( p^* = 25 \\)**.\n",
    "\n",
    "---\n",
    "\n",
    "### **Conclusão**\n",
    "- **Usamos cálculo diferencial** para maximizar a receita.\n",
    "- **Derivamos a função de receita \\( R(p) \\)** e encontramos o ponto crítico.\n",
    "- **O preço ótimo \\( p^* \\) que maximiza a receita** é:\n",
    "\n",
    "$$p^* = \\frac{a}{2b}$$\n",
    "\n",
    "- **Validamos o resultado numericamente** para diferentes valores de \\( a \\) e \\( b \\)."
   ]
  }
 ],
 "metadata": {
  "kernelspec": {
   "display_name": "Python 3",
   "language": "python",
   "name": "python3"
  },
  "language_info": {
   "codemirror_mode": {
    "name": "ipython",
    "version": 3
   },
   "file_extension": ".py",
   "mimetype": "text/x-python",
   "name": "python",
   "nbconvert_exporter": "python",
   "pygments_lexer": "ipython3",
   "version": "3.12.1"
  }
 },
 "nbformat": 4,
 "nbformat_minor": 2
}
